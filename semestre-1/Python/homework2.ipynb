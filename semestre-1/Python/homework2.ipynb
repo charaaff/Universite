{
 "cells": [
  {
   "cell_type": "markdown",
   "id": "a023b3ed",
   "metadata": {},
   "source": [
    "# Notebook de présentation de la SAE S01.02"
   ]
  },
  {
   "cell_type": "markdown",
   "id": "47840237",
   "metadata": {},
   "source": [
    "## Binôme \n",
    "\n",
    "* Lucas AGUETAÏ\n",
    "* Charaf ESSAYAH "
   ]
  },
  {
   "cell_type": "markdown",
   "id": "b798295c",
   "metadata": {},
   "source": [
    "# Partie 1 :"
   ]
  },
  {
   "cell_type": "code",
   "execution_count": 12,
   "id": "510784ff",
   "metadata": {},
   "outputs": [],
   "source": [
    "from json import *"
   ]
  },
  {
   "cell_type": "markdown",
   "id": "8b46f867",
   "metadata": {},
   "source": [
    "#### Question 1\n",
    "\n",
    "Définir la fonction `est_base` prenant en paramètre un caractère et retournant `True` si ce caractère correspond à une base de l'ADN (est un des caractères `A`, `T`, `G`, `C`), et `False` sinon. \n",
    "\n",
    "À titre d'exemple, l'appel de la fonction `est_base` avec la valeur `\"A\"` doit retourner `True` alors que l'appel avec la valeur `\"z\"` doit retourner `False`."
   ]
  },
  {
   "cell_type": "code",
   "execution_count": 13,
   "id": "4bd5b30a",
   "metadata": {},
   "outputs": [],
   "source": [
    "def est_base(c):\n",
    "    \"\"\"\n",
    "    Retourne True si la chaine de caractère en paramètre contient que des \"A\", \"T\", \"G\", ou \"C\", et False sinon\n",
    "    \"\"\"\n",
    "    if c == \"A\" or c == \"T\" or c == \"G\" or c == \"C\" :\n",
    "        return True\n",
    "    else :\n",
    "        return False"
   ]
  },
  {
   "cell_type": "code",
   "execution_count": 14,
   "id": "c270f649",
   "metadata": {},
   "outputs": [],
   "source": [
    "def test_est_base() :\n",
    "    assert est_base(\"T\")\n",
    "    assert not est_base('P')\n",
    "    assert not est_base(\"a\")\n",
    "    assert not est_base(\"@\")\n",
    "    \n",
    "test_est_base()"
   ]
  },
  {
   "cell_type": "markdown",
   "id": "1ce86870",
   "metadata": {},
   "source": [
    "#### Question 2\n",
    "\n",
    "Définir la fonction `est_adn` prenant en paramètre une chaîne de caractères et retournant `True` si la chaîne correspond à un ADN (est constituée uniquement des caractères `A`, `T`, `G`, `C`), et `False` sinon.\n",
    "\n",
    "À titre d'exemple, l'appel de la fonction `est_adn` avec la valeur `\"ATGTCAAA\"` doit retourner `True` alors que l'appel avec la valeur `\"ATBOAATG\"` doit retourner `False`."
   ]
  },
  {
   "cell_type": "code",
   "execution_count": 15,
   "id": "09978960",
   "metadata": {},
   "outputs": [],
   "source": [
    "def est_adn(s):\n",
    "    \"\"\"\n",
    "    Prend en paramètre une chaîne de caractères et retournant True si la chaîne correspond à un ADN \n",
    "    (est constituée uniquement des caractères A, T, G, C), et False sinon.\n",
    "    \"\"\"\n",
    "    i = 0\n",
    "    while i<len(s) :\n",
    "        if est_base(s[i]) :\n",
    "            i+=1\n",
    "        else :\n",
    "            return False\n",
    "    return True"
   ]
  },
  {
   "cell_type": "code",
   "execution_count": 16,
   "id": "494e2cfa",
   "metadata": {},
   "outputs": [],
   "source": [
    "def test_est_adn() :\n",
    "    assert est_adn(\"ATGTCAAA\")\n",
    "    assert not est_adn(\"ATBOAATG\")\n",
    "    assert not est_adn(\"atgtcaaa\")\n",
    "\n",
    "test_est_adn()"
   ]
  },
  {
   "cell_type": "markdown",
   "id": "0e620889",
   "metadata": {},
   "source": [
    "#### Question 3\n",
    "\n",
    "L'ARN est construit à partir de l'ADN en remplaçant la thymine `T` par l'uracile codé par la lettre `U`. Ainsi la transcription de la séquence ADN `ATTGCA` en ARN donne `AUUGCA`.\n",
    "\n",
    "Définir la fonction `arn` prenant en paramètre une séquence d'ADN et retournant la séquence ARN associée.\n",
    "\n",
    "À titre d'exemple, l'appel de la fonction `arn` avec la valeur `\"ATGTCAAA\"` doit retourner `\"AUGUCAAA\"`.\n",
    "\n",
    "**Attention :** si la chaîne passée en paramètre ne correspond pas à de l'ADN, la fonction `arn` doit retourner la valeur `None`."
   ]
  },
  {
   "cell_type": "code",
   "execution_count": 17,
   "id": "60af12f2",
   "metadata": {},
   "outputs": [],
   "source": [
    "def arn(adn):\n",
    "    \"\"\"\n",
    "    Prend en paramètre une séquence d'ADN et retournant la séquence ARN associée \n",
    "    (Tout les caractères \"T\" sont remplacé par le caractère \"U\").\n",
    "    \"\"\"\n",
    "    if est_adn(adn) == False :\n",
    "        return None\n",
    "    i = 0\n",
    "    res = \"\"\n",
    "    while i<len(adn) :\n",
    "        if adn[i] == \"T\" :\n",
    "            res += \"U\"\n",
    "        else :\n",
    "            res += adn[i]\n",
    "        i += 1\n",
    "    return res"
   ]
  },
  {
   "cell_type": "code",
   "execution_count": 18,
   "id": "8f15d3f8",
   "metadata": {},
   "outputs": [],
   "source": [
    "def test_arn() :\n",
    "    assert arn(\"ATTGCA\") == \"AUUGCA\"\n",
    "    assert arn(\"ATGTCAAA\") == \"AUGUCAAA\"\n",
    "    assert arn(\"AGCAAA\") == \"AGCAAA\"\n",
    "    assert not arn(\"UGAC\")\n",
    "test_arn()"
   ]
  },
  {
   "cell_type": "markdown",
   "id": "1d4347f8",
   "metadata": {},
   "source": [
    "#### Question 4\n",
    "\n",
    "Un codon est une séquence de trois bases sur un ARN (messager) spécifiant l'un des 22 acides aminés protéinogènes dont la succession sur l'ARN détermine la structure primaire de la protéine à synthétiser *(définition issue de Wikipedia)*.\n",
    "\n",
    "Définir la fonction `arn_to_codons` prenant en paramètre une chaîne de caractères correspondant à de l'ARN et découpant cet ARN en codons. La fonction doit retourner un tableau contenant la liste des codons.\n",
    "Par exemple, l'appel de la fonction `arn_to_codons` avec l'ARN `\"CGUUAGGGG\"` doit retourner le tableau `[\"CGU\", \"UAG\", \"GGG\"]`.\n",
    "\n",
    "**Remarque :** Si le nombre de nucléotides dans l'ARN n'est pas un multiple de 3, les derniers sont ignorés. Par exemple, les ARN `\"CGUAAU\"` et `\"CGUAAUGC\"` donnent tous les deux la séquence de codons `[\"CGU\", \"AAU\"]`."
   ]
  },
  {
   "cell_type": "code",
   "execution_count": 19,
   "id": "bba5dba9",
   "metadata": {},
   "outputs": [],
   "source": [
    "def arn_to_codons(arn):\n",
    "    \"\"\"\n",
    "    Prend en paramètre une chaîne de caractères correspondant à de l'ARN et découpe cet ARN en codons. \n",
    "    \"\"\"\n",
    "    i = 0\n",
    "    verif = 3\n",
    "    tab_arn = []\n",
    "    while i<len(arn) and verif<=len(arn) :\n",
    "        codon = \"\"\n",
    "        while i<verif:\n",
    "            codon+=str(arn[i])\n",
    "            i+=1\n",
    "        verif+=3\n",
    "        tab_arn.append(codon)\n",
    "\n",
    "    return tab_arn"
   ]
  },
  {
   "cell_type": "code",
   "execution_count": 20,
   "id": "051eef53",
   "metadata": {},
   "outputs": [],
   "source": [
    "def test_arn_to_codons() :\n",
    "    assert arn_to_codons(\"CGUUAGGGG\") == ['CGU', 'UAG', 'GGG']\n",
    "    assert arn_to_codons(\"CGUAAUGC\") == [\"CGU\", \"AAU\"]\n",
    "\n",
    "test_arn_to_codons()"
   ]
  },
  {
   "cell_type": "markdown",
   "id": "92c028c2",
   "metadata": {},
   "source": [
    "#### Question 5\n",
    "\n",
    "Chaque codon correspond à un acide aminé.\n",
    "Par exemple, le codon `UUU` correspond à l'acide aminé Phenylalanine. Plusieurs codons correspondent à un même acide aminé. \n",
    "Certains codons, correspondant à la fin du séquençage des acides aminés, sont appelés *codons stop*. C'est le cas du codon `UAA` par exemple.\n",
    "\n",
    "Le fichier `data/codons_aa.json` contient la correspondance entre codons et acides aminés au format JSON. Les codons qui ne sont pas dans le fichier sont les codons stop.\n",
    "\n",
    "\n",
    "* Définir la fonction `load_dico_codons_aa` qui prend en paramètre un fichier au format JSON et retourne la structure de données chargée en mémoire à partir du JSON.\n",
    "\n",
    "\n",
    "* Définir la fonction `codons_stop` prenant en paramètre un dictionnaire dont les clés sont les codons et les valeurs les acides aminés correspondants (chaînes de caractères). La fonction retournera un tableau contenant l'ensemble des codons stop, c'est-à-dire l'ensemble des codons possibles avec les caractères `AUGC` qui ne sont pas des clés du dictionnaire.\n",
    "\n",
    "\n",
    "**Remarque :** Créer une variable initialisée avec les données contenues dans un fichier au format JSON se fait très facilement en python. Pour plus d'information, relire la fin du [cours 9 du module M1102](https://github.com/iutVilletaneuseDptInfo/M1102/blob/master/09_Dictionnnaires/cours9.ipynb)."
   ]
  },
  {
   "cell_type": "code",
   "execution_count": 21,
   "id": "e5b4d58e",
   "metadata": {},
   "outputs": [],
   "source": [
    "def load_dico_codons_aa(filename):\n",
    "    \"\"\"\n",
    "    Prend en paramètre un fichier au format JSON et retourne la structure de données chargée en mémoire à partir du JSON.\n",
    "    \"\"\"\n",
    "    fichier = open (filename, \"r\")\n",
    "    strjson = fichier.read()\n",
    "    fichier.close\n",
    "\n",
    "    nomcodons = loads(strjson)\n",
    "    return nomcodons\n",
    "\n",
    "def codons_stop(dico):\n",
    "    \"\"\"\n",
    "    Prend en paramètre un dictionnaire dont les clés sont les codons et les valeurs les acides aminés correspondants (chaînes de caractères), \n",
    "    retournant un tableau contenant l'ensemble des codons stop, (l'ensemble des codons possibles avec les caractères AUGC qui ne sont pas des clés du dictionnaire).\n",
    "    \"\"\"\n",
    "    lettre = [\"U\", \"A\", \"C\", \"G\"]\n",
    "    stop = []\n",
    "    c = 0\n",
    "    while c < len(lettre):\n",
    "        b = 0\n",
    "        while b < len(lettre):\n",
    "            a = 0\n",
    "            while a < len(lettre):\n",
    "                if ((lettre[a] + lettre[b] + lettre[c]) not in list(dico)):\n",
    "                    stop.append(lettre[a] + lettre[b] + lettre[c])\n",
    "                a+=1\n",
    "            b+=1\n",
    "        c+=1\n",
    "    return stop"
   ]
  },
  {
   "cell_type": "code",
   "execution_count": 33,
   "id": "e1faf421",
   "metadata": {},
   "outputs": [],
   "source": [
    "def test_load_dico_condons_aa() :\n",
    "    dico = {'UUU': 'Phenylalanine', 'UUC': 'Phenylalanine', 'UUA': 'Leucine', 'UUG': 'Leucine', 'CUU': 'Leucine', 'CUC': 'Leucine', 'CUA': 'Leucine', 'CUG': 'Leucine', 'AUU': 'Isoleucine', 'AUC': 'Isoleucine', 'AUA': 'Methionine', 'AUG': 'Methionine', 'GUU': 'Valine', 'GUC': 'Valine', 'GUA': 'Valine', 'GUG': 'Valine', 'UCU': 'Serine', 'UCC': 'Serine', 'UCA': 'Serine', 'UCG': 'Serine', 'CCU': 'Proline', 'CCC': 'Proline', 'CCA': 'Proline', 'CCG': 'Proline', 'ACU': 'Threonine', 'ACC': 'Threonine', 'ACA': 'Threonine', 'ACG': 'Threonine', 'GCU': 'Alanine', 'GCC': 'Alanine', 'GCA': 'Alanine', 'GCG': 'Alanine', 'UAU': 'Tyrosine', 'UAC': 'Tyrosine', 'CAU': 'Histidine', 'CAC': 'Histidine', 'CAA': 'Glutamine', 'CAG': 'Glutamine', 'AAU': 'Asparagine', 'AAC': 'Asparagine', 'AAA': 'Lysine', 'AAG': 'Lysine', 'GAU': 'Aspartic acid', 'GAC': 'Aspartic acid', 'GAA': 'Glutamic acid', 'GAG': 'Glutamic acid', 'UGU': 'Cysteine', 'UGC': 'Cysteine', 'UGA': 'Tryptophan', 'UGG': 'Tryptophan', 'CGU': 'Arginine', 'CGC': 'Arginine', 'CGA': 'Arginine', 'CGG': 'Arginine', 'AGU': 'Serine', 'AGC': 'Serine', 'GGU': 'Glycine', 'GGC': 'Glycine', 'GGA': 'Glycine', 'GGG': 'Glycine'}\n",
    "    assert load_dico_codons_aa(\"./data/codons_aa.json\") == dico\n",
    "\n",
    "def test_codons_stop() :\n",
    "    tab1 = {'UUU': 'Phenylalanine', 'UUC': 'Phenylalanine', 'UUA': 'Leucine', 'UUG': 'Leucine', 'CUU': 'Leucine', 'CUC': 'Leucine', 'CUA': 'Leucine', 'CUG': 'Leucine', 'AUU': 'Isoleucine', 'AUC': 'Isoleucine', 'AUA': 'Methionine', 'AUG': 'Methionine', 'GUU': 'Valine', 'GUC': 'Valine', 'GUA': 'Valine', 'GUG': 'Valine', 'UCU': 'Serine', 'UCC': 'Serine', 'UCA': 'Serine', 'UCG': 'Serine', 'CCU': 'Proline', 'CCC': 'Proline', 'CCA': 'Proline', 'CCG': 'Proline', 'ACU': 'Threonine', 'ACC': 'Threonine', 'ACA': 'Threonine', 'ACG': 'Threonine', 'GCU': 'Alanine', 'GCC': 'Alanine', 'GCA': 'Alanine', 'GCG': 'Alanine', 'UAU': 'Tyrosine', 'UAC': 'Tyrosine', 'CAU': 'Histidine', 'CAC': 'Histidine', 'CAA': 'Glutamine', 'CAG': 'Glutamine', 'AAU': 'Asparagine', 'AAC': 'Asparagine', 'AAA': 'Lysine', 'AAG': 'Lysine', 'GAU': 'Aspartic acid', 'GAC': 'Aspartic acid', 'GAA': 'Glutamic acid', 'GAG': 'Glutamic acid', 'UGU': 'Cysteine', 'UGC': 'Cysteine', 'UGA': 'Tryptophan', 'UGG': 'Tryptophan', 'CGU': 'Arginine', 'CGC': 'Arginine', 'CGA': 'Arginine', 'CGG': 'Arginine', 'AGU': 'Serine', 'AGC': 'Serine', 'GGU': 'Glycine', 'GGC': 'Glycine', 'GGA': 'Glycine', 'GGG': 'Glycine'}\n",
    "    tab2 = {'UUU': 'Phenylalanine', 'UUC': 'Phenylalanine', 'UUA': 'Leucine', 'UUG': 'Leucine', 'CUU': 'Leucine', 'CUC': 'Leucine', 'CUA': 'Leucine', 'CUG': 'Leucine', 'AUU': 'Isoleucine', 'AUC': 'Isoleucine', 'AUA': 'Methionine', 'AUG': 'Methionine', 'GUU': 'Valine', 'GUC': 'Valine', 'GUA': 'Valine', 'GUG': 'Valine', 'UCU': 'Serine', 'UCC': 'Serine', 'UCA': 'Serine', 'UCG': 'Serine', 'CCU': 'Proline', 'CCC': 'Proline', 'CCA': 'Proline', 'CCG': 'Proline', 'ACU': 'Threonine', 'ACC': 'Threonine', 'ACA': 'Threonine', 'ACG': 'Threonine', 'GCU': 'Alanine', 'GCC': 'Alanine', 'GCA': 'Alanine', 'GCG': 'Alanine', 'UAU': 'Tyrosine', 'UAC': 'Tyrosine', 'CAU': 'Histidine', 'CAC': 'Histidine', 'CAA': 'Glutamine', 'CAG': 'Glutamine', 'AAU': 'Asparagine', 'AAC': 'Asparagine', 'AAA': 'Lysine', 'AAG': 'Lysine', 'GAU': 'Aspartic acid', 'GAC': 'Aspartic acid', 'GAA': 'Glutamic acid', 'GAG': 'Glutamic acid', 'UGU': 'Cysteine', 'UGC': 'Cysteine', 'UGA': 'Tryptophan', 'UGG': 'Tryptophan', 'CGU': 'Arginine', 'CGC': 'Arginine', 'CGA': 'Arginine', 'CGG': 'Arginine', 'AGU': 'Serine', 'AGC': 'Serine', 'GGU': 'Glycine', 'GGC': 'Glycine'}\n",
    "    assert codons_stop(tab1) == ['UAA', 'AGA', 'UAG', 'AGG']\n",
    "    assert codons_stop(tab2) == ['UAA', 'AGA', 'GGA', 'UAG', 'AGG', 'GGG']\n",
    "    \n",
    "test_load_dico_condons_aa()\n",
    "test_codons_stop()"
   ]
  },
  {
   "cell_type": "markdown",
   "id": "9c491575",
   "metadata": {},
   "source": [
    "#### Question 6\n",
    "\n",
    "Définir la fonction `codons_to_aa` prenant en paramètre un tableau de codons (correspondant par exemple à une valeur retournée par la fonction `arn_to_codons`) et le dictionnaire de correspondance entre codons et acides aminés. La fonction devra retourner un tableau contenant les acides aminés correspondant aux codons.\n",
    "\n",
    "**Attention :** Si l'un des codons est un codon stop, alors la synthèse (traduction des codons en acides aminés) s'arrête. Par exemple, si le tableau de codons passé en paramètre est `[\"CGU\", \"AAU\", \"UAA\", \"GGG\", \"CGU\"]`, alors le tableau retourné doit être `[\"Arginine\", \"Asparagine\"]` car le codon `CGU` correspond à l'Arginine, le codon `AAU` correspond à l'asparagine et `UAA` est un codon stop."
   ]
  },
  {
   "cell_type": "code",
   "execution_count": 34,
   "id": "fc6e51f4",
   "metadata": {},
   "outputs": [],
   "source": [
    "def codons_to_aa(codons, dico):\n",
    "    \"\"\"\n",
    "    Prend en paramètre un tableau de codons et le dictionnaire de correspondance entre codons et acides aminés, \n",
    "    et retourne un tableau contenant les acides aminés correspondant aux codons.\n",
    "    \"\"\"\n",
    "    i=0\n",
    "    tab=[]\n",
    "    while i<len(codons) :\n",
    "        if (codons[i] in codons_stop(dico)) :\n",
    "            return tab\n",
    "        tab.append(dico[str(codons[i])])\n",
    "        i+=1\n",
    "    return tab"
   ]
  },
  {
   "cell_type": "code",
   "execution_count": 35,
   "id": "07daa0d9",
   "metadata": {},
   "outputs": [],
   "source": [
    "def test_codons_to_aa() :\n",
    "    assert codons_to_aa([\"CGU\", \"AAU\", \"UAA\", \"GGG\", \"CGU\"], load_dico_codons_aa(\"./data/codons_aa.json\")) == ['Arginine', 'Asparagine']\n",
    "    assert not codons_to_aa(['UAA', 'AGA', 'UAG', 'AGG'], load_dico_codons_aa(\"./data/codons_aa.json\"))\n",
    "    assert not codons_to_aa(['UAG', 'UAA'], load_dico_codons_aa(\"./data/codons_aa.json\"))\n",
    "\n",
    "test_codons_to_aa()"
   ]
  },
  {
   "cell_type": "markdown",
   "id": "85bb9bc9",
   "metadata": {},
   "source": [
    "### Partie 2\n",
    "\n",
    "Le séquençage des acides aminés ne commence que lorsque le *codon start* est rencontré. Ce codon est le codon `AUG`. On appelle séquence codante l'ensemble des codons compris entre le codon start et un codon stop. Dans une séquence codante, le codon `AUG` correspond à l'acide aminé *Methionine*. Une séquence de codons peut contenir zéro, une ou plusieurs séquences codantes. Par exemple, la séquence `\"CGU\", \"UUU\", \"AUG\", \"CGU\", \"AUG\", \"AAU\", \"UAA\", \"AUG\", \"GGG\", \"CCC\",  \"CGU\", \"UAG\", \"GGG\"` contient deux séquences codantes : `\"CGU\", \"AUG\"` et `\"GGG\", \"CCC\", \"CGU\"` puisque `\"AAU\"` et `\"UAG\"` sont des codons stop.\n",
    "\n",
    "**Remarque :** Une séquence codante est délimitée par le codon start et un codon stop. Si la séquence de codons ne contient aucun codon stop, alors il n'y a pas de séquence codante.\n",
    "\n",
    "#### Question 1\n",
    "\n",
    "Définir la fonction `nextIndice` prenant en paramètre un tableau `tab`, un indice `ind` de `tab`, et un deuxième tableau `elements`. La fonction recherche dans le tableau `tab` à partir de l'indice `ind` et retourne l'indice de la première case du tableau `tab` contenant une valeur de `elements`.\n",
    "\n",
    "Par exemple, l'appel de la fonction `nextIndice` avec le tableau `tab` égal à `[\"bonjour\", \"hello\", \"buongiorno\", \"ciao\", \"bye\"]`, et le tableau `elements` égal à `[\"hello\", \"bye\"]` doit retourner 1 si `ind` est inférieur ou égal à 1 lors de l'appel, et 4 sinon.\n",
    "\n",
    "**Remarque :** si aucune valeur de `elements` n'apparaît dans `tab` à partir de l'indice `ind`, la fonction doit renvoyer la valeur `len(tab)`."
   ]
  },
  {
   "cell_type": "code",
   "execution_count": 36,
   "id": "9b7dd5b4",
   "metadata": {},
   "outputs": [],
   "source": [
    "def nextIndice(tab, ind, elements):\n",
    "    \"\"\"\n",
    "    Prend en paramètre un tableau tab, un indice ind de tab, et un deuxième tableau elements. \n",
    "    La fonction recherche dans le tableau tab à partir de l'indice ind et retourne l'indice de la première case du tableau tab \n",
    "    contenant une valeur de elements.\n",
    "    \"\"\"\n",
    "    y=ind\n",
    "    while y<len(tab) :\n",
    "        i=0\n",
    "        while i<len(elements) :\n",
    "            if elements[i] == tab[y] :\n",
    "                return y\n",
    "            i+=1\n",
    "        y+=1\n",
    "    return len(tab)"
   ]
  },
  {
   "cell_type": "code",
   "execution_count": 37,
   "id": "e77b8b5c",
   "metadata": {},
   "outputs": [],
   "source": [
    "def test_nextIndice() :\n",
    "    assert nextIndice([\"bonjour\", \"hello\", \"buongiorno\", \"ciao\", \"bye\"], 1, [\"hello\", \"bye\"]) == 1\n",
    "    assert nextIndice([\"bonjour\", \"hello\", \"buongiorno\", \"ciao\", \"bye\"], 2, [\"hello\", \"bye\"]) == 4\n",
    "    assert nextIndice([\"bonjour\", \"hello\", \"buongiorno\", \"ciao\", \"bye\"], 1, [\"hellohello\", \"byebye\"]) == 5\n",
    "    assert nextIndice([\"bonjour\", \"hello\", \"buongiorno\", \"ciao\", \"bye\"], 6, [\"Charaf\"]) == 5\n",
    "\n",
    "test_nextIndice()"
   ]
  },
  {
   "cell_type": "markdown",
   "id": "be9f59c1",
   "metadata": {},
   "source": [
    "#### Question 2\n",
    "\n",
    "Définir la fonction `decoupe_sequence` prenant en paramètre trois tableaux `seq`, `start` et `stop`. La fonction doit découper le tableau `seq` en séquences et retourner un tableau contenant les différents morceaux. Un morceau dans le tableau `seq` est une partie non vide de `seq` comprise entre une valeur de `start` et une valeur de `stop`.\n",
    "\n",
    "L'appel de la fonction `decoupe_sequence` avec les tableaux \n",
    "```python\n",
    "seq = [\"val1\", \"début\", \"val2\", \"val3\", \"end\", \"val4\", \"fin\", \"begin\", \"val5\", \"fin\", \"val6\"]\n",
    "start = [\"début\", \"begin\"]\n",
    "stop = [\"fin\", \"end\"]\n",
    "```\n",
    "doit retourner\n",
    "```python\n",
    "[\n",
    "    [\"val2\", \"val3\"],\n",
    "    [\"val5\"]\n",
    "]\n",
    "```"
   ]
  },
  {
   "cell_type": "code",
   "execution_count": 38,
   "id": "d91e3c8a",
   "metadata": {},
   "outputs": [],
   "source": [
    "def decoupe_sequence(seq, start, stop):\n",
    "    \"\"\"\n",
    "    Prend en paramètre trois tableaux seq, start et stop. \n",
    "    La fonction doit découper le tableau seq en séquences et retourner un tableau contenant les différents morceaux. \n",
    "    Un morceau dans le tableau seq est une partie non vide de seq comprise entre une valeur de start et une valeur de stop.\n",
    "    \"\"\"\n",
    "    rep = []\n",
    "    x=0\n",
    "    y=0\n",
    "    while x<len(seq) :\n",
    "        x=nextIndice(seq, x, start)\n",
    "        z=x+1\n",
    "        y=nextIndice(seq, x, stop)\n",
    "        new_tab = []\n",
    "        while z<y :\n",
    "            new_tab.append(seq[z])\n",
    "            z+=1\n",
    "        if new_tab != [] :\n",
    "            rep.append(new_tab)\n",
    "        x=y\n",
    "        y+=1\n",
    "    return rep"
   ]
  },
  {
   "cell_type": "code",
   "execution_count": 39,
   "id": "cd5804a4",
   "metadata": {},
   "outputs": [],
   "source": [
    "def test_decoupe_sequence() :\n",
    "    assert decoupe_sequence([\"val1\", \"début\", \"val2\", \"val3\", \"end\", \"val4\", \"fin\", \"begin\", \"val5\", \"fin\", \"val6\"], [\"début\", \"begin\"], [\"fin\", \"end\"]) == [[\"val2\", \"val3\"], [\"val5\"]]\n",
    "    assert decoupe_sequence([\"val1\", \"début\", \"val2\", \"val3\", \"val4\", \"fin\", \"begin\", \"val5\", \"fin\", \"val6\"], [\"début\", \"begin\"], [\"fin\", \"end\"]) == [[\"val2\", \"val3\", \"val4\"], [\"val5\"]]\n",
    "test_decoupe_sequence()"
   ]
  },
  {
   "cell_type": "markdown",
   "id": "3512e2dc",
   "metadata": {},
   "source": [
    "#### Question 3\n",
    "\n",
    "Définir la fonction `codons_to_seq_codantes` qui prend en paramètre une séquence de codons et le dictionnaire de correspondance entre codons et acides aminés, et découpe la séquence de codons en séquences codantes. Les différentes séquences sont stockées dans un tableau. L'apel de la fonction `codons_to_seq` avec la séquence  `[\"CGU\", \"UUU\", \"AUG\", \"CGU\", \"AUG\", \"AAU\", \"UAA\", \"AUG\", \"GGG\", \"CCC\",  \"CGU\", \"UAG\", \"GGG\"]` doit retourner le tableau :\n",
    "```python\n",
    "[\n",
    "    [\"CGU\", \"AUG\", \"AAU\"],\n",
    "    [\"GGG\", \"CCC\", \"CGU\"]\n",
    "]\n",
    "```\n",
    "\n",
    "**Remarque :** la fonction ne doit pas retourner de séquence codante vide."
   ]
  },
  {
   "cell_type": "code",
   "execution_count": 40,
   "id": "332eb29d",
   "metadata": {},
   "outputs": [],
   "source": [
    "def codons_to_seq_codantes(codons, dico):\n",
    "    return decoupe_sequence(codons, [\"AUG\"], codons_stop(dico))"
   ]
  },
  {
   "cell_type": "code",
   "execution_count": 41,
   "id": "db2436a6",
   "metadata": {},
   "outputs": [],
   "source": [
    "def test_codons_to_seq_codantes() :\n",
    "    dico = {'UUU': 'Phenylalanine', 'UUC': 'Phenylalanine', 'UUA': 'Leucine', 'UUG': 'Leucine', 'CUU': 'Leucine', 'CUC': 'Leucine', 'CUA': 'Leucine', 'CUG': 'Leucine', 'AUU': 'Isoleucine', 'AUC': 'Isoleucine', 'AUA': 'Methionine', 'AUG': 'Methionine', 'GUU': 'Valine', 'GUC': 'Valine', 'GUA': 'Valine', 'GUG': 'Valine', 'UCU': 'Serine', 'UCC': 'Serine', 'UCA': 'Serine', 'UCG': 'Serine', 'CCU': 'Proline', 'CCC': 'Proline', 'CCA': 'Proline', 'CCG': 'Proline', 'ACU': 'Threonine', 'ACC': 'Threonine', 'ACA': 'Threonine', 'ACG': 'Threonine', 'GCU': 'Alanine', 'GCC': 'Alanine', 'GCA': 'Alanine', 'GCG': 'Alanine', 'UAU': 'Tyrosine', 'UAC': 'Tyrosine', 'CAU': 'Histidine', 'CAC': 'Histidine', 'CAA': 'Glutamine', 'CAG': 'Glutamine', 'AAU': 'Asparagine', 'AAC': 'Asparagine', 'AAA': 'Lysine', 'AAG': 'Lysine', 'GAU': 'Aspartic acid', 'GAC': 'Aspartic acid', 'GAA': 'Glutamic acid', 'GAG': 'Glutamic acid', 'UGU': 'Cysteine', 'UGC': 'Cysteine', 'UGA': 'Tryptophan', 'UGG': 'Tryptophan', 'CGU': 'Arginine', 'CGC': 'Arginine', 'CGA': 'Arginine', 'CGG': 'Arginine', 'AGU': 'Serine', 'AGC': 'Serine', 'GGU': 'Glycine', 'GGC': 'Glycine', 'GGA': 'Glycine', 'GGG': 'Glycine'}\n",
    "    assert codons_to_seq_codantes([\"CGU\", \"UUU\", \"AUG\", \"CGU\", \"AUG\", \"AAU\", \"UAA\", \"AUG\", \"GGG\", \"CCC\",  \"CGU\", \"UAG\", \"GGG\"], dico) == [[\"CGU\", \"AUG\", \"AAU\"],[\"GGG\", \"CCC\", \"CGU\"]]\n",
    "    assert codons_to_seq_codantes([\"CGU\", \"UUU\", \"CGU\", \"AUG\", \"AAU\", \"UAA\", \"AUG\", \"GGG\", \"CCC\",  \"CGU\", \"UAG\", \"GGG\"], dico) == [['AAU'], ['GGG', 'CCC', 'CGU']]\n",
    "    assert codons_to_seq_codantes([\"CGU\", \"UUU\", \"AUG\", \"CGU\", \"AUG\", \"AAU\", \"AUG\", \"GGG\", \"CCC\",  \"CGU\", \"UAG\", \"GGG\"], dico) == [['CGU', 'AUG', 'AAU', 'AUG', 'GGG', 'CCC', 'CGU']]\n",
    "\n",
    "test_codons_to_seq_codantes()"
   ]
  },
  {
   "cell_type": "markdown",
   "id": "e38711bd",
   "metadata": {},
   "source": [
    "#### Question 4\n",
    "\n",
    "\n",
    "Définir la fonction `seq_codantes_to_seq_aas` prenant en paramètre un tableau de séquences codantes (même type que les valeurs retournées par la fonction précédente)  et le dictionnaire de correspondance entre codons et acides aminés, et retournant un tableau contenant les différentes séquences d'acides aminés codées par les différentes séquences codantes. L'appel de la fonction `seq_codantes_to_seq_aas` avec le tableau retourné dans l'exemple de la fonction `codons_to_seq` doit retourner le tableau :\n",
    "\n",
    "```python\n",
    "[\n",
    "    [\"Arginine\", \"Methionine\", \"Asparagine\"],\n",
    "    [\"Glycine\", \"Proline\", \"Arginine\"]"
   ]
  },
  {
   "cell_type": "code",
   "execution_count": 42,
   "id": "48098f53",
   "metadata": {},
   "outputs": [],
   "source": [
    "def seq_codantes_to_seq_aas(seq_codantes, dico):\n",
    "    rep = []\n",
    "    i=0\n",
    "    while i<len(seq_codantes) :\n",
    "        rep.append(codons_to_aa(seq_codantes[i], dico))\n",
    "        i+=1\n",
    "    return rep"
   ]
  },
  {
   "cell_type": "code",
   "execution_count": 32,
   "id": "3f333816",
   "metadata": {},
   "outputs": [],
   "source": [
    "def test_seq_codantes_to_seq_aas() :\n",
    "    dico = {'UUU': 'Phenylalanine', 'UUC': 'Phenylalanine', 'UUA': 'Leucine', 'UUG': 'Leucine', 'CUU': 'Leucine', 'CUC': 'Leucine', 'CUA': 'Leucine', 'CUG': 'Leucine', 'AUU': 'Isoleucine', 'AUC': 'Isoleucine', 'AUA': 'Methionine', 'AUG': 'Methionine', 'GUU': 'Valine', 'GUC': 'Valine', 'GUA': 'Valine', 'GUG': 'Valine', 'UCU': 'Serine', 'UCC': 'Serine', 'UCA': 'Serine', 'UCG': 'Serine', 'CCU': 'Proline', 'CCC': 'Proline', 'CCA': 'Proline', 'CCG': 'Proline', 'ACU': 'Threonine', 'ACC': 'Threonine', 'ACA': 'Threonine', 'ACG': 'Threonine', 'GCU': 'Alanine', 'GCC': 'Alanine', 'GCA': 'Alanine', 'GCG': 'Alanine', 'UAU': 'Tyrosine', 'UAC': 'Tyrosine', 'CAU': 'Histidine', 'CAC': 'Histidine', 'CAA': 'Glutamine', 'CAG': 'Glutamine', 'AAU': 'Asparagine', 'AAC': 'Asparagine', 'AAA': 'Lysine', 'AAG': 'Lysine', 'GAU': 'Aspartic acid', 'GAC': 'Aspartic acid', 'GAA': 'Glutamic acid', 'GAG': 'Glutamic acid', 'UGU': 'Cysteine', 'UGC': 'Cysteine', 'UGA': 'Tryptophan', 'UGG': 'Tryptophan', 'CGU': 'Arginine', 'CGC': 'Arginine', 'CGA': 'Arginine', 'CGG': 'Arginine', 'AGU': 'Serine', 'AGC': 'Serine', 'GGU': 'Glycine', 'GGC': 'Glycine', 'GGA': 'Glycine', 'GGG': 'Glycine'}\n",
    "    assert seq_codantes_to_seq_aas([[\"CGU\", \"AUG\", \"AAU\"], [\"GGG\", \"CCC\", \"CGU\"]], dico) == [[\"Arginine\", \"Methionine\", \"Asparagine\"], [\"Glycine\", \"Proline\", \"Arginine\"]]\n",
    "    assert seq_codantes_to_seq_aas([['AAU'], ['GGG', 'CCC', 'CGU']], dico) == [[\"Asparagine\"], [\"Glycine\", \"Proline\", \"Arginine\"]]\n",
    "    assert seq_codantes_to_seq_aas([['AAU', 'CGU'], ['GGG', 'CCC', 'CGU']], dico) == [[\"Asparagine\", \"Arginine\"], [\"Glycine\", \"Proline\", \"Arginine\"]]\n",
    "test_seq_codantes_to_seq_aas()"
   ]
  },
  {
   "cell_type": "markdown",
   "id": "af3980d0",
   "metadata": {},
   "source": [
    "#### Question 5\n",
    "\n",
    "Définir la fonction `adn_encode_molecule` prenant en parmètre un brin d'ADN, le dictionnaire de correspondance entre codons et acides aminés et une molécule (séquence d'acide aminées). La fonction doit retourner `True` si l'ARN obtenu à partir de l'ADN puis découpé en codons contient une séquence codante correspondant à la molécule, c'est-à-dire si la séquence d'acide aminée correspondant à une séquence codante est la même que la molécule.\n",
    "Par exemple, l'appel de la fonction `adn_encode_molecule` avec l'ADN `\"CGTTTTATGCGTATGAATTAAATGGGGCCCCGTTAGGGG\"` et la molécule `[\"Glycine\", \"Proline\", \"Arginine\"]` doit retourner `True`."
   ]
  },
  {
   "cell_type": "code",
   "execution_count": 7,
   "id": "15fdf8a4",
   "metadata": {},
   "outputs": [],
   "source": [
    "def adn_encode_molecule(adn, dico, molecule):\n",
    "    new_arn = arn(adn)\n",
    "    codons = arn_to_codons(new_arn)\n",
    "    seq = codons_to_seq_codantes(codons, dico)\n",
    "    seq_aas = seq_codantes_to_seq_aas(seq, dico)\n",
    "    if molecule in seq_aas :\n",
    "        return True\n",
    "    return False"
   ]
  },
  {
   "cell_type": "code",
   "execution_count": null,
   "id": "d2f9d252",
   "metadata": {},
   "outputs": [],
   "source": [
    "def test_adn_encode_molecule() :\n",
    "    dico = {'UUU': 'Phenylalanine', 'UUC': 'Phenylalanine', 'UUA': 'Leucine', 'UUG': 'Leucine', 'CUU': 'Leucine', 'CUC': 'Leucine', 'CUA': 'Leucine', 'CUG': 'Leucine', 'AUU': 'Isoleucine', 'AUC': 'Isoleucine', 'AUA': 'Methionine', 'AUG': 'Methionine', 'GUU': 'Valine', 'GUC': 'Valine', 'GUA': 'Valine', 'GUG': 'Valine', 'UCU': 'Serine', 'UCC': 'Serine', 'UCA': 'Serine', 'UCG': 'Serine', 'CCU': 'Proline', 'CCC': 'Proline', 'CCA': 'Proline', 'CCG': 'Proline', 'ACU': 'Threonine', 'ACC': 'Threonine', 'ACA': 'Threonine', 'ACG': 'Threonine', 'GCU': 'Alanine', 'GCC': 'Alanine', 'GCA': 'Alanine', 'GCG': 'Alanine', 'UAU': 'Tyrosine', 'UAC': 'Tyrosine', 'CAU': 'Histidine', 'CAC': 'Histidine', 'CAA': 'Glutamine', 'CAG': 'Glutamine', 'AAU': 'Asparagine', 'AAC': 'Asparagine', 'AAA': 'Lysine', 'AAG': 'Lysine', 'GAU': 'Aspartic acid', 'GAC': 'Aspartic acid', 'GAA': 'Glutamic acid', 'GAG': 'Glutamic acid', 'UGU': 'Cysteine', 'UGC': 'Cysteine', 'UGA': 'Tryptophan', 'UGG': 'Tryptophan', 'CGU': 'Arginine', 'CGC': 'Arginine', 'CGA': 'Arginine', 'CGG': 'Arginine', 'AGU': 'Serine', 'AGC': 'Serine', 'GGU': 'Glycine', 'GGC': 'Glycine', 'GGA': 'Glycine', 'GGG': 'Glycine'}\n",
    "    assert adn_encode_molecule(\"CGTTTTATGCGTATGAATTAAATGGGGCCCCGTTAGGGG\", dico, [\"Glycine\", \"Proline\", \"Arginine\"])\n",
    "    assert adn_encode_molecule(\"CGTTTTATGCGTATGAATTAAATGGGGCCCCGTTAGG\", dico, [\"Glycine\", \"Proline\", \"Arginine\"])"
   ]
  }
 ],
 "metadata": {
  "kernelspec": {
   "display_name": "Python 3",
   "language": "python",
   "name": "python3"
  },
  "language_info": {
   "codemirror_mode": {
    "name": "ipython",
    "version": 3
   },
   "file_extension": ".py",
   "mimetype": "text/x-python",
   "name": "python",
   "nbconvert_exporter": "python",
   "pygments_lexer": "ipython3",
   "version": "3.8.8"
  }
 },
 "nbformat": 4,
 "nbformat_minor": 5
}
