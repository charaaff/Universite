{
 "cells": [
  {
   "cell_type": "code",
   "execution_count": null,
   "id": "99b9b1d0",
   "metadata": {},
   "outputs": [],
   "source": [
    "from random import *\n",
    "from turtle import *"
   ]
  },
  {
   "cell_type": "code",
   "execution_count": null,
   "id": "51030046",
   "metadata": {},
   "outputs": [],
   "source": [
    "def tirage() :\n",
    "    x = 0\n",
    "    y = 0\n",
    "    compte = 0\n",
    "\n",
    "    while x != 0 or y != 0 or compte == 0 :\n",
    "            gd = randint(1, 2)\n",
    "            if gd == 1 :\n",
    "                last_x = x\n",
    "                x += randrange(-1, 3, 2)\n",
    "            else :\n",
    "                last_y = y\n",
    "                y += randrange(-1, 3, 2)\n",
    "            compte += 1\n",
    "            print(compte)\n",
    "            print('x : ', x, ', y : ', y)\n",
    "            if compte>=100000:\n",
    "                break\n",
    "                \n",
    "    if compte>=100000:\n",
    "        print(\"Il y a eu \", compte, \" tirage, et il n'est pas revenu au départ !\")\n",
    "    else :\n",
    "        print(\"Il y a eu \", compte, \" tirage !\")"
   ]
  },
  {
   "cell_type": "code",
   "execution_count": null,
   "id": "dd704680",
   "metadata": {},
   "outputs": [],
   "source": [
    "def tirage_graphique() :\n",
    "    x = 0\n",
    "    y = 0\n",
    "    compte = 0\n",
    "    s = Turtle()\n",
    "    s.begin_fill()\n",
    "\n",
    "    while x != 0 or y != 0 or compte == 0 :\n",
    "            gd = randint(1, 2)\n",
    "            if gd == 1 :\n",
    "                last_x = x\n",
    "                x += randrange(-1, 3, 2)\n",
    "                if x<last_x :\n",
    "                    s.forward(10)\n",
    "                else :\n",
    "                    s.left(180)\n",
    "                    s.forward(10)\n",
    "                    s.left(180)\n",
    "            else :\n",
    "                last_y = y\n",
    "                y += randrange(-1, 3, 2)\n",
    "                if y<last_y :\n",
    "                    s.right(90)\n",
    "                    s.forward(10)\n",
    "                    s.left(90)\n",
    "                else :\n",
    "                    s.left(90)\n",
    "                    s.forward(10)\n",
    "                    s.right(90)\n",
    "            \n",
    "            compte += 1\n",
    "            print(compte)\n",
    "            print('x : ', x, ', y : ', y)\n",
    "            if compte>=100000:\n",
    "                break\n",
    "    s.end_fill()\n",
    "    \n",
    "    if compte>=100000:\n",
    "        print(\"Il y a eu \", compte, \" tirage, et il n'est pas revenu au départ !\")\n",
    "    else :\n",
    "        print(\"Il y a eu \", compte, \" tirage !\")"
   ]
  },
  {
   "cell_type": "code",
   "execution_count": null,
   "id": "4c963af9",
   "metadata": {},
   "outputs": [],
   "source": [
    "# def nb_tirage() :\n",
    "#     nb = int(input('Combien de tirage voulez vous faires ?' + \\n))"
   ]
  },
  {
   "cell_type": "code",
   "execution_count": null,
   "id": "af6216c6",
   "metadata": {},
   "outputs": [],
   "source": [
    "nb_tirage()"
   ]
  },
  {
   "cell_type": "code",
   "execution_count": null,
   "id": "ce5cd718",
   "metadata": {},
   "outputs": [],
   "source": [
    "tirage()"
   ]
  },
  {
   "cell_type": "code",
   "execution_count": null,
   "id": "cb901323",
   "metadata": {},
   "outputs": [],
   "source": []
  }
 ],
 "metadata": {
  "kernelspec": {
   "display_name": "Python 3",
   "language": "python",
   "name": "python3"
  },
  "language_info": {
   "codemirror_mode": {
    "name": "ipython",
    "version": 3
   },
   "file_extension": ".py",
   "mimetype": "text/x-python",
   "name": "python",
   "nbconvert_exporter": "python",
   "pygments_lexer": "ipython3",
   "version": "3.11.5"
  }
 },
 "nbformat": 4,
 "nbformat_minor": 5
}
